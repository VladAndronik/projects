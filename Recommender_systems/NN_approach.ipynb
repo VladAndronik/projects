{
 "cells": [
  {
   "cell_type": "markdown",
   "metadata": {},
   "source": [
    "# Implemented Matrix Factorization Approach\n",
    "### Paper: https://datajobs.com/data-science-repo/Recommender-Systems-%5BNetflix%5D.pdf"
   ]
  },
  {
   "cell_type": "code",
   "execution_count": 1,
   "metadata": {
    "collapsed": true
   },
   "outputs": [],
   "source": [
    "%matplotlib inline"
   ]
  },
  {
   "cell_type": "code",
   "execution_count": 2,
   "metadata": {},
   "outputs": [
    {
     "name": "stderr",
     "output_type": "stream",
     "text": [
      "/Users/Vlad/anaconda3/lib/python3.6/site-packages/h5py/__init__.py:34: FutureWarning: Conversion of the second argument of issubdtype from `float` to `np.floating` is deprecated. In future, it will be treated as `np.float64 == np.dtype(float).type`.\n",
      "  from ._conv import register_converters as _register_converters\n"
     ]
    }
   ],
   "source": [
    "import numpy as np\n",
    "import pandas as pd\n",
    "import scipy\n",
    "import time\n",
    "import math\n",
    "from scipy.sparse import coo_matrix\n",
    "\n",
    "import seaborn as sns\n",
    "import matplotlib.pyplot as plt\n",
    "\n",
    "\n",
    "from sklearn.metrics import mean_squared_error, mean_absolute_error\n",
    "\n",
    "import tensorflow as tf\n",
    "from tensorflow.python.framework import ops\n",
    "RANDOM_STATE = 17"
   ]
  },
  {
   "cell_type": "markdown",
   "metadata": {},
   "source": [
    "### Main class"
   ]
  },
  {
   "cell_type": "code",
   "execution_count": 9,
   "metadata": {
    "collapsed": true
   },
   "outputs": [],
   "source": [
    "from cf_utils import *  # model utils\n",
    "class CollaborativeFiltering():\n",
    "    \n",
    "    \"\"\"\n",
    "        parameters -- dictionary with studied parameters user_predicted and item_predicted\n",
    "    \"\"\"\n",
    "    parameters = {}\n",
    "    objective = []\n",
    "    user_predicted = None # embeddings\n",
    "    item_predicted = None # embeddings\n",
    "    dictionary = {}\n",
    "    train, test = None, None\n",
    "    data = None\n",
    "    indexes_of_test = []\n",
    "    \n",
    "    def __init__(self, data):\n",
    "        \"\"\"\n",
    "            data -- format specified in paper\n",
    "        \"\"\"\n",
    "        self.data = data \n",
    "\n",
    "    \n",
    "    def _train_test_split(self, k=1):\n",
    "        \"\"\"\n",
    "            Constrtucting test set by changing the non-zero values of ratings to zero\n",
    "        \"\"\"\n",
    "        ## test set\n",
    "        self.train = np.copy(self.data)\n",
    "        self.test = np.copy(self.data)\n",
    "        for user in range(self.data.shape[0]):\n",
    "            num = self.data[user, self.data[user].nonzero()].shape[1]\n",
    "            if num > k*2:\n",
    "                new_size = int(num * 0.3)\n",
    "                test_rating = np.random.choice(self.data[user,:].nonzero()[0],size=new_size)\n",
    "                self.indexes_of_test.append(test_rating)\n",
    "            elif num <= k:\n",
    "                test_rating = np.random.choice(self.data[user,:].nonzero()[0],size=k)\n",
    "                self.indexes_of_test.append(test_rating)\n",
    "            \n",
    "            self.train[user, test_rating] = 0\n",
    "            self.test[user, test_rating] = self.data[user, test_rating]\n",
    "        \n",
    "        \n",
    "    def _getEmbeddings(self):\n",
    "        m, n = self.train.shape[0],self.train.shape[1]\n",
    "        u_emb, i_emb = np.random.rand(m, self.n_factors), np.random.rand(self.n_factors, n)\n",
    "        return u_emb, i_emb\n",
    "    \n",
    "    def _toDataFrame(self, pred):\n",
    "        df = pd.DataFrame(pred, index=self.data.index, columns=self.data.columns)\n",
    "        return df\n",
    "    \n",
    "    def fit(self, n_factors, learning_rate = 0.005, num_epochs = 10, verbose=0, minibatch_size = 2, \n",
    "         lmbda = .02):\n",
    "        \"\"\"\n",
    "            Learning user and item embeddings from train data\n",
    "            @params -- hyperparameters for objective optimization\n",
    "        \"\"\"\n",
    "        # initialization\n",
    "        ops.reset_default_graph()  # to be able to rerun the model without overwriting tf variables\n",
    "        tf.set_random_seed(RANDOM_STATE)  \n",
    "        self._train_test_split(2)\n",
    "        n_rows, n_cols = self.train.shape[0], self.train.shape[1]\n",
    "        costs = []\n",
    "        \n",
    "#         u_emb, i_emb = self._getEmbeddings()\n",
    "        # regularization parameter\n",
    "        beta = tf.constant(lmbda, dtype=tf.float64)\n",
    "\n",
    "\n",
    "        # making the u_emb,i_emb tf variables and creating a dictionary with that params\n",
    "        parameters = initialize_parameters_with_random(n_rows, n_cols, n_factors)\n",
    "        \n",
    "        u_emb, i_emb = parameters['p_u'], parameters['q_i']\n",
    "        # forward pass (dot product)\n",
    "        Y_pred = forward_pass(parameters)\n",
    "\n",
    "        # computing loss\n",
    "        loss = compute_cost(Y_pred, self.train)\n",
    "        regularization = tf.add(tf.nn.l2_loss(u_emb), tf.nn.l2_loss(i_emb))\n",
    "        cost = tf.reduce_mean(tf.add(tf.cast(loss, dtype=tf.float64), tf.cast(beta * regularization, dtype=tf.float64)))\n",
    "\n",
    "        # optimization with Adam(improved SGD)\n",
    "        optimizer = tf.train.AdamOptimizer(learning_rate=learning_rate).minimize(cost)\n",
    "\n",
    "        init = tf.global_variables_initializer()\n",
    "\n",
    "        # make it all work for num_epochs times\n",
    "        with tf.Session() as sess:\n",
    "            sess.run(init)\n",
    "            print('Start')\n",
    "            for epoch in range(num_epochs):\n",
    "                _, epoch_cost = sess.run([optimizer, cost])\n",
    "\n",
    "                if verbose == 1 and epoch % 5 == 0:\n",
    "                    print('After epoch %i cost: %.4f' % (epoch, epoch_cost))\n",
    "                costs.append(epoch_cost)\n",
    "\n",
    "            parameters = sess.run(parameters)\n",
    "        self.objective = costs\n",
    "        self.user_predicted, self.item_predicted = parameters['p_u'],parameters['q_i']\n",
    "        self.parameters = parameters\n",
    "    \n",
    "    def predict(self, err='mae'):\n",
    "        \n",
    "        \n",
    "        ## prediction on test set, computing the mae score\n",
    "        \n",
    "        prediction = np.dot(self.user_predicted, self.item_predicted)\n",
    "        loss = 0\n",
    "        pred = np.copy(prediction)\n",
    "        values_pred, values_test = [], []\n",
    "        index = np.array(self.indexes_of_test)\n",
    "        for i, v in enumerate(index):\n",
    "            values_test.append(self.test[i, v])\n",
    "            values_pred.append(pred[i, v])\n",
    "        \n",
    "        p, n = [], []\n",
    "        for v in values_test:\n",
    "            for i in v:\n",
    "                n.append(i)\n",
    "        for v in values_pred:\n",
    "            for i in v:\n",
    "                p.append(i)\n",
    "                \n",
    "                \n",
    "        if err == 'mae':\n",
    "            loss = mean_absolute_error(p, n)\n",
    "        \n",
    "        elif err == 'mse':\n",
    "            loss = mean_squared_error(p, n)\n",
    "        return loss\n",
    "    \n",
    "    def predict_parameters(self, users, items, kbest=10):\n",
    "        \"\"\"\n",
    "            Returns:\n",
    "            pred_dictionary -- dictionary for 25k users with kbest icds\n",
    "        \"\"\"\n",
    "        pred = np.dot(self.user_predicted, self.item_predicted)\n",
    "        df = pd.DataFrame(pred, index=users, columns=items)\n",
    "        pred_dictionary = {}\n",
    "        for i in range(df.shape[0]):\n",
    "            pred_dictionary[df.index[i]] = df.iloc[i, np.argsort(pred[i])[-kbest:]]\n",
    "        self.dictionary = pred_dictionary\n",
    "        return pred_dictionary"
   ]
  },
  {
   "cell_type": "markdown",
   "metadata": {},
   "source": [
    "### Testing a class"
   ]
  },
  {
   "cell_type": "code",
   "execution_count": 11,
   "metadata": {
    "collapsed": true
   },
   "outputs": [],
   "source": [
    "# create a mini-batch for experiments\n",
    "batch = UI.toarray()[:10000]"
   ]
  },
  {
   "cell_type": "code",
   "execution_count": 12,
   "metadata": {
    "collapsed": true
   },
   "outputs": [],
   "source": [
    "## test set\n",
    "train = np.copy(batch)\n",
    "test = np.copy(batch)\n",
    "indexes_of_test = []\n",
    "for user in range(batch.shape[0]):\n",
    "    test_rating = np.random.choice(batch[user,:].nonzero()[0],size=2)\n",
    "    indexes_of_test.append(test_rating)\n",
    "    train[user, test_rating] = 0\n",
    "    test[user, test_rating] = batch[user, test_rating]"
   ]
  },
  {
   "cell_type": "code",
   "execution_count": 15,
   "metadata": {
    "collapsed": true
   },
   "outputs": [],
   "source": [
    "cf = CollaborativeFiltering(predict_matrix.values[:10000])"
   ]
  },
  {
   "cell_type": "code",
   "execution_count": 17,
   "metadata": {
    "scrolled": false
   },
   "outputs": [
    {
     "name": "stdout",
     "output_type": "stream",
     "text": [
      "Start\n",
      "After epoch 0 cost: 2.1064\n",
      "After epoch 5 cost: 0.2649\n",
      "After epoch 10 cost: 0.3672\n",
      "After epoch 15 cost: 0.2327\n",
      "After epoch 20 cost: 0.1824\n",
      "CPU times: user 4min 29s, sys: 1min 1s, total: 5min 30s\n",
      "Wall time: 2min 4s\n"
     ]
    }
   ],
   "source": [
    "%%time\n",
    "cf.fit(n_factors=50, verbose=1, num_epochs=25)"
   ]
  }
 ],
 "metadata": {
  "kernelspec": {
   "display_name": "Python 3",
   "language": "python",
   "name": "python3"
  },
  "language_info": {
   "codemirror_mode": {
    "name": "ipython",
    "version": 3
   },
   "file_extension": ".py",
   "mimetype": "text/x-python",
   "name": "python",
   "nbconvert_exporter": "python",
   "pygments_lexer": "ipython3",
   "version": "3.6.2"
  }
 },
 "nbformat": 4,
 "nbformat_minor": 2
}
