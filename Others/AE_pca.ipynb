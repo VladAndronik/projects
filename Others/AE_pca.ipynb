{
 "cells": [
  {
   "cell_type": "markdown",
   "metadata": {},
   "source": [
    "### Comparison of linear auto-encoder and pca for dimensionality reduction"
   ]
  },
  {
   "cell_type": "code",
   "execution_count": 1,
   "metadata": {
    "collapsed": true
   },
   "outputs": [],
   "source": [
    "%matplotlib inline"
   ]
  },
  {
   "cell_type": "code",
   "execution_count": 2,
   "metadata": {},
   "outputs": [
    {
     "name": "stderr",
     "output_type": "stream",
     "text": [
      "/Users/Vlad/anaconda3/lib/python3.6/site-packages/h5py/__init__.py:34: FutureWarning: Conversion of the second argument of issubdtype from `float` to `np.floating` is deprecated. In future, it will be treated as `np.float64 == np.dtype(float).type`.\n",
      "  from ._conv import register_converters as _register_converters\n",
      "Using TensorFlow backend.\n"
     ]
    }
   ],
   "source": [
    "from sklearn import datasets\n",
    "import numpy as np\n",
    "import pandas as pd\n",
    "import matplotlib.pyplot as plt\n",
    "from sklearn.decomposition import PCA\n",
    "from sklearn.preprocessing import MinMaxScaler\n",
    "\n",
    "import keras\n",
    "\n",
    "from keras.layers import Input, Dense\n",
    "from keras.models import Model\n",
    "from keras.optimizers import Adam"
   ]
  },
  {
   "cell_type": "markdown",
   "metadata": {},
   "source": [
    "#### PCA"
   ]
  },
  {
   "cell_type": "code",
   "execution_count": 3,
   "metadata": {
    "collapsed": true
   },
   "outputs": [],
   "source": [
    "iris = datasets.load_iris()\n",
    "X = iris.data\n",
    "y = iris.target\n",
    "target_names = iris.target_names\n",
    "scaler = MinMaxScaler()\n",
    "X_scaled = scaler.fit_transform(X)\n",
    "pca = PCA()\n",
    "X_pca = pca.fit_transform(X_scaled)"
   ]
  },
  {
   "cell_type": "code",
   "execution_count": 5,
   "metadata": {},
   "outputs": [
    {
     "data": {
      "image/png": "[encoded data removed]",
      "text/plain": [
       "<matplotlib.figure.Figure at 0x10e7e60f0>"
      ]
     },
     "metadata": {},
     "output_type": "display_data"
    }
   ],
   "source": [
    "plt.subplots(figsize=(17, 8))\n",
    "plt.plot(X_pca[y == 0, 0], X_pca[y == 0, 1], 'bo', label='Setosa')\n",
    "plt.plot(X_pca[y == 1, 0], X_pca[y == 1, 1], 'go', label='Versicolour')\n",
    "plt.plot(X_pca[y == 2, 0], X_pca[y == 2, 1], 'ro', label='Virginica');\n",
    "plt.title('PCA');\n",
    "plt.legend();"
   ]
  },
  {
   "cell_type": "markdown",
   "metadata": {},
   "source": [
    "#### Auto Encoder"
   ]
  },
  {
   "cell_type": "code",
   "execution_count": 18,
   "metadata": {
    "scrolled": true
   },
   "outputs": [
    {
     "name": "stdout",
     "output_type": "stream",
     "text": [
      "Epoch 1/100\n",
      "150/150 [==============================] - 0s 2ms/step - loss: 0.1874\n",
      "Epoch 2/100\n",
      "150/150 [==============================] - 0s 532us/step - loss: 0.1637\n",
      "Epoch 3/100\n",
      "150/150 [==============================] - 0s 312us/step - loss: 0.1458\n",
      "Epoch 4/100\n",
      "150/150 [==============================] - 0s 259us/step - loss: 0.1320\n",
      "Epoch 5/100\n",
      "150/150 [==============================] - 0s 297us/step - loss: 0.1197\n",
      "Epoch 6/100\n",
      "150/150 [==============================] - 0s 309us/step - loss: 0.1090\n",
      "Epoch 7/100\n",
      "150/150 [==============================] - 0s 287us/step - loss: 0.0996\n",
      "Epoch 8/100\n",
      "150/150 [==============================] - 0s 287us/step - loss: 0.0910\n",
      "Epoch 9/100\n",
      "150/150 [==============================] - 0s 292us/step - loss: 0.0832\n",
      "Epoch 10/100\n",
      "150/150 [==============================] - 0s 300us/step - loss: 0.0764\n",
      "Epoch 11/100\n",
      "150/150 [==============================] - 0s 295us/step - loss: 0.0702\n",
      "Epoch 12/100\n",
      "150/150 [==============================] - 0s 324us/step - loss: 0.0643\n",
      "Epoch 13/100\n",
      "150/150 [==============================] - 0s 281us/step - loss: 0.0594\n",
      "Epoch 14/100\n",
      "150/150 [==============================] - 0s 266us/step - loss: 0.0547\n",
      "Epoch 15/100\n",
      "150/150 [==============================] - 0s 259us/step - loss: 0.0504\n",
      "Epoch 16/100\n",
      "150/150 [==============================] - 0s 252us/step - loss: 0.0467\n",
      "Epoch 17/100\n",
      "150/150 [==============================] - 0s 298us/step - loss: 0.0432\n",
      "Epoch 18/100\n",
      "150/150 [==============================] - 0s 277us/step - loss: 0.0401\n",
      "Epoch 19/100\n",
      "150/150 [==============================] - 0s 282us/step - loss: 0.0372\n",
      "Epoch 20/100\n",
      "150/150 [==============================] - 0s 264us/step - loss: 0.0347\n",
      "Epoch 21/100\n",
      "150/150 [==============================] - 0s 274us/step - loss: 0.0325\n",
      "Epoch 22/100\n",
      "150/150 [==============================] - 0s 259us/step - loss: 0.0304\n",
      "Epoch 23/100\n",
      "150/150 [==============================] - 0s 281us/step - loss: 0.0286\n",
      "Epoch 24/100\n",
      "150/150 [==============================] - 0s 573us/step - loss: 0.0270\n",
      "Epoch 25/100\n",
      "150/150 [==============================] - 0s 300us/step - loss: 0.0255\n",
      "Epoch 26/100\n",
      "150/150 [==============================] - 0s 250us/step - loss: 0.0243\n",
      "Epoch 27/100\n",
      "150/150 [==============================] - 0s 277us/step - loss: 0.0230\n",
      "Epoch 28/100\n",
      "150/150 [==============================] - 0s 275us/step - loss: 0.0220\n",
      "Epoch 29/100\n",
      "150/150 [==============================] - 0s 276us/step - loss: 0.0211\n",
      "Epoch 30/100\n",
      "150/150 [==============================] - 0s 256us/step - loss: 0.0201\n",
      "Epoch 31/100\n",
      "150/150 [==============================] - 0s 260us/step - loss: 0.0193\n",
      "Epoch 32/100\n",
      "150/150 [==============================] - 0s 268us/step - loss: 0.0185\n",
      "Epoch 33/100\n",
      "150/150 [==============================] - 0s 278us/step - loss: 0.0178\n",
      "Epoch 34/100\n",
      "150/150 [==============================] - 0s 241us/step - loss: 0.0171\n",
      "Epoch 35/100\n",
      "150/150 [==============================] - 0s 276us/step - loss: 0.0165\n",
      "Epoch 36/100\n",
      "150/150 [==============================] - 0s 259us/step - loss: 0.0159\n",
      "Epoch 37/100\n",
      "150/150 [==============================] - 0s 272us/step - loss: 0.0153\n",
      "Epoch 38/100\n",
      "150/150 [==============================] - 0s 272us/step - loss: 0.0147\n",
      "Epoch 39/100\n",
      "150/150 [==============================] - 0s 235us/step - loss: 0.0141\n",
      "Epoch 40/100\n",
      "150/150 [==============================] - 0s 296us/step - loss: 0.0136\n",
      "Epoch 41/100\n",
      "150/150 [==============================] - 0s 275us/step - loss: 0.0131\n",
      "Epoch 42/100\n",
      "150/150 [==============================] - 0s 250us/step - loss: 0.0126\n",
      "Epoch 43/100\n",
      "150/150 [==============================] - 0s 259us/step - loss: 0.0121\n",
      "Epoch 44/100\n",
      "150/150 [==============================] - 0s 261us/step - loss: 0.0117\n",
      "Epoch 45/100\n",
      "150/150 [==============================] - 0s 255us/step - loss: 0.0113\n",
      "Epoch 46/100\n",
      "150/150 [==============================] - 0s 278us/step - loss: 0.0109\n",
      "Epoch 47/100\n",
      "150/150 [==============================] - 0s 283us/step - loss: 0.0105\n",
      "Epoch 48/100\n",
      "150/150 [==============================] - 0s 472us/step - loss: 0.0101\n",
      "Epoch 49/100\n",
      "150/150 [==============================] - 0s 259us/step - loss: 0.0097\n",
      "Epoch 50/100\n",
      "150/150 [==============================] - 0s 237us/step - loss: 0.0094\n",
      "Epoch 51/100\n",
      "150/150 [==============================] - 0s 263us/step - loss: 0.0091\n",
      "Epoch 52/100\n",
      "150/150 [==============================] - 0s 282us/step - loss: 0.0087\n",
      "Epoch 53/100\n",
      "150/150 [==============================] - 0s 252us/step - loss: 0.0085\n",
      "Epoch 54/100\n",
      "150/150 [==============================] - 0s 271us/step - loss: 0.0082\n",
      "Epoch 55/100\n",
      "150/150 [==============================] - 0s 263us/step - loss: 0.0079\n",
      "Epoch 56/100\n",
      "150/150 [==============================] - 0s 254us/step - loss: 0.0077\n",
      "Epoch 57/100\n",
      "150/150 [==============================] - 0s 266us/step - loss: 0.0074\n",
      "Epoch 58/100\n",
      "150/150 [==============================] - 0s 244us/step - loss: 0.0072\n",
      "Epoch 59/100\n",
      "150/150 [==============================] - 0s 253us/step - loss: 0.0070\n",
      "Epoch 60/100\n",
      "150/150 [==============================] - 0s 243us/step - loss: 0.0068\n",
      "Epoch 61/100\n",
      "150/150 [==============================] - 0s 253us/step - loss: 0.0066\n",
      "Epoch 62/100\n",
      "150/150 [==============================] - 0s 253us/step - loss: 0.0064\n",
      "Epoch 63/100\n",
      "150/150 [==============================] - 0s 270us/step - loss: 0.0062\n",
      "Epoch 64/100\n",
      "150/150 [==============================] - 0s 259us/step - loss: 0.0060\n",
      "Epoch 65/100\n",
      "150/150 [==============================] - 0s 231us/step - loss: 0.0059\n",
      "Epoch 66/100\n",
      "150/150 [==============================] - ETA: 0s - loss: 0.003 - 0s 226us/step - loss: 0.0057\n",
      "Epoch 67/100\n",
      "150/150 [==============================] - 0s 220us/step - loss: 0.0056\n",
      "Epoch 68/100\n",
      "150/150 [==============================] - 0s 243us/step - loss: 0.0054\n",
      "Epoch 69/100\n",
      "150/150 [==============================] - 0s 241us/step - loss: 0.0053\n",
      "Epoch 70/100\n",
      "150/150 [==============================] - 0s 263us/step - loss: 0.0052\n",
      "Epoch 71/100\n",
      "150/150 [==============================] - 0s 274us/step - loss: 0.0051\n",
      "Epoch 72/100\n",
      "150/150 [==============================] - 0s 348us/step - loss: 0.0050\n",
      "Epoch 73/100\n",
      "150/150 [==============================] - 0s 447us/step - loss: 0.0049\n",
      "Epoch 74/100\n",
      "150/150 [==============================] - 0s 265us/step - loss: 0.0047\n",
      "Epoch 75/100\n",
      "150/150 [==============================] - 0s 272us/step - loss: 0.0047\n",
      "Epoch 76/100\n",
      "150/150 [==============================] - 0s 255us/step - loss: 0.0046\n",
      "Epoch 77/100\n",
      "150/150 [==============================] - 0s 231us/step - loss: 0.0045\n",
      "Epoch 78/100\n",
      "150/150 [==============================] - 0s 271us/step - loss: 0.0044\n",
      "Epoch 79/100\n",
      "150/150 [==============================] - 0s 226us/step - loss: 0.0043\n",
      "Epoch 80/100\n",
      "150/150 [==============================] - 0s 227us/step - loss: 0.0042\n",
      "Epoch 81/100\n",
      "150/150 [==============================] - 0s 347us/step - loss: 0.0042\n",
      "Epoch 82/100\n",
      "150/150 [==============================] - 0s 253us/step - loss: 0.0041\n",
      "Epoch 83/100\n",
      "150/150 [==============================] - 0s 238us/step - loss: 0.0041\n",
      "Epoch 84/100\n",
      "150/150 [==============================] - 0s 231us/step - loss: 0.0040\n",
      "Epoch 85/100\n",
      "150/150 [==============================] - 0s 228us/step - loss: 0.0039\n",
      "Epoch 86/100\n",
      "150/150 [==============================] - 0s 248us/step - loss: 0.0039\n",
      "Epoch 87/100\n",
      "150/150 [==============================] - 0s 335us/step - loss: 0.0038\n",
      "Epoch 88/100\n",
      "150/150 [==============================] - 0s 266us/step - loss: 0.0038\n",
      "Epoch 89/100\n",
      "150/150 [==============================] - 0s 246us/step - loss: 0.0037\n",
      "Epoch 90/100\n",
      "150/150 [==============================] - 0s 246us/step - loss: 0.0037\n",
      "Epoch 91/100\n",
      "150/150 [==============================] - 0s 263us/step - loss: 0.0037\n",
      "Epoch 92/100\n",
      "150/150 [==============================] - 0s 243us/step - loss: 0.0036\n",
      "Epoch 93/100\n",
      "150/150 [==============================] - 0s 244us/step - loss: 0.0036\n",
      "Epoch 94/100\n",
      "150/150 [==============================] - 0s 281us/step - loss: 0.0036\n",
      "Epoch 95/100\n",
      "150/150 [==============================] - 0s 229us/step - loss: 0.0035\n",
      "Epoch 96/100\n",
      "150/150 [==============================] - 0s 244us/step - loss: 0.0035\n",
      "Epoch 97/100\n"
     ]
    },
    {
     "name": "stdout",
     "output_type": "stream",
     "text": [
      "150/150 [==============================] - 0s 206us/step - loss: 0.0035\n",
      "Epoch 98/100\n",
      "150/150 [==============================] - 0s 425us/step - loss: 0.0035\n",
      "Epoch 99/100\n",
      "150/150 [==============================] - 0s 250us/step - loss: 0.0034\n",
      "Epoch 100/100\n",
      "150/150 [==============================] - 0s 274us/step - loss: 0.0034\n"
     ]
    },
    {
     "data": {
      "text/plain": [
       "<keras.callbacks.History at 0x11798b0b8>"
      ]
     },
     "execution_count": 18,
     "metadata": {},
     "output_type": "execute_result"
    }
   ],
   "source": [
    "input_shape = X_scaled.shape[1]\n",
    "encode_shape = 2\n",
    "input_ = Input((input_shape,))\n",
    "encoder = Dense(encode_shape, activation='linear', name='encoder')(input_)\n",
    "decoder = Dense(input_shape, activation='linear', name='decoder')(encoder)\n",
    "model = Model(input_, decoder)\n",
    "model.compile(Adam(1e-3), 'mse')\n",
    "model.fit(X_scaled, X_scaled, batch_size=8, epochs=100)"
   ]
  },
  {
   "cell_type": "code",
   "execution_count": 19,
   "metadata": {},
   "outputs": [
    {
     "name": "stdout",
     "output_type": "stream",
     "text": [
      "_________________________________________________________________\n",
      "Layer (type)                 Output Shape              Param #   \n",
      "=================================================================\n",
      "input_4 (InputLayer)         (None, 4)                 0         \n",
      "_________________________________________________________________\n",
      "encoder (Dense)              (None, 2)                 10        \n",
      "_________________________________________________________________\n",
      "decoder (Dense)              (None, 4)                 12        \n",
      "=================================================================\n",
      "Total params: 22\n",
      "Trainable params: 22\n",
      "Non-trainable params: 0\n",
      "_________________________________________________________________\n"
     ]
    }
   ],
   "source": [
    "model.summary()"
   ]
  },
  {
   "cell_type": "code",
   "execution_count": 20,
   "metadata": {
    "collapsed": true
   },
   "outputs": [],
   "source": [
    "prediction = model.predict(X_scaled)"
   ]
  },
  {
   "cell_type": "code",
   "execution_count": 21,
   "metadata": {},
   "outputs": [
    {
     "data": {
      "image/png": "[encoded data removed]",
      "text/plain": [
       "<matplotlib.figure.Figure at 0x118cd6358>"
      ]
     },
     "metadata": {},
     "output_type": "display_data"
    }
   ],
   "source": [
    "plt.subplots(figsize=(20, 10))\n",
    "plt.subplot(121)\n",
    "plt.title('PCA')\n",
    "plt.plot(X_pca[y == 0, 0], X_pca[y == 0, 1], 'bo', label='Setosa')\n",
    "plt.plot(X_pca[y == 1, 0], X_pca[y == 1, 1], 'go', label='Versicolour')\n",
    "plt.plot(X_pca[y == 2, 0], X_pca[y == 2, 1], 'ro', label='Virginica')\n",
    "plt.legend()\n",
    "plt.subplot(122)\n",
    "plt.title('AE')\n",
    "plt.plot(prediction[y == 0, 0], prediction[y == 0, 1], 'bo', label='Setosa')\n",
    "plt.plot(prediction[y == 1, 0], prediction[y == 1, 1], 'go', label='Versicolour')\n",
    "plt.plot(prediction[y == 2, 0], prediction[y == 2, 1], 'ro', label='Virginica');\n",
    "plt.legend();"
   ]
  }
 ],
 "metadata": {
  "kernelspec": {
   "display_name": "Python 3",
   "language": "python",
   "name": "python3"
  },
  "language_info": {
   "codemirror_mode": {
    "name": "ipython",
    "version": 3
   },
   "file_extension": ".py",
   "mimetype": "text/x-python",
   "name": "python",
   "nbconvert_exporter": "python",
   "pygments_lexer": "ipython3",
   "version": "3.6.2"
  }
 },
 "nbformat": 4,
 "nbformat_minor": 2
}
